{
  "nbformat": 4,
  "nbformat_minor": 0,
  "metadata": {
    "kernelspec": {
      "display_name": "Python 3",
      "language": "python",
      "name": "python3"
    },
    "language_info": {
      "codemirror_mode": {
        "name": "ipython",
        "version": 3
      },
      "file_extension": ".py",
      "mimetype": "text/x-python",
      "name": "python",
      "nbconvert_exporter": "python",
      "pygments_lexer": "ipython3",
      "version": "3.7.6"
    },
    "colab": {
      "name": "Newspaper Category Prediction.ipynb",
      "provenance": [],
      "collapsed_sections": []
    }
  },
  "cells": [
    {
      "cell_type": "code",
      "metadata": {
        "colab": {
          "base_uri": "https://localhost:8080/"
        },
        "id": "O7PevFL1gbNO",
        "outputId": "5cc19f5b-211a-4d1c-d296-0f44bf7c6950"
      },
      "source": [
        "import pandas as pd\n",
        "import nltk\n",
        "from nltk.corpus import stopwords\n",
        "import string\n",
        "nltk.download('stopwords')\n",
        "nltk.download('wordnet')"
      ],
      "execution_count": null,
      "outputs": [
        {
          "output_type": "stream",
          "text": [
            "[nltk_data] Downloading package stopwords to /root/nltk_data...\n",
            "[nltk_data]   Unzipping corpora/stopwords.zip.\n",
            "[nltk_data] Downloading package wordnet to /root/nltk_data...\n",
            "[nltk_data]   Unzipping corpora/wordnet.zip.\n"
          ],
          "name": "stdout"
        },
        {
          "output_type": "execute_result",
          "data": {
            "text/plain": [
              "True"
            ]
          },
          "metadata": {
            "tags": []
          },
          "execution_count": 1
        }
      ]
    },
    {
      "cell_type": "code",
      "metadata": {
        "colab": {
          "base_uri": "https://localhost:8080/",
          "height": 202
        },
        "id": "4wzbLay_gbNT",
        "outputId": "996ccba0-1e3e-402c-ab87-1df9b732c523"
      },
      "source": [
        "train_data=pd.read_excel('Data_Train.xlsx')\n",
        "train_data.head(5)"
      ],
      "execution_count": null,
      "outputs": [
        {
          "output_type": "execute_result",
          "data": {
            "text/html": [
              "<div>\n",
              "<style scoped>\n",
              "    .dataframe tbody tr th:only-of-type {\n",
              "        vertical-align: middle;\n",
              "    }\n",
              "\n",
              "    .dataframe tbody tr th {\n",
              "        vertical-align: top;\n",
              "    }\n",
              "\n",
              "    .dataframe thead th {\n",
              "        text-align: right;\n",
              "    }\n",
              "</style>\n",
              "<table border=\"1\" class=\"dataframe\">\n",
              "  <thead>\n",
              "    <tr style=\"text-align: right;\">\n",
              "      <th></th>\n",
              "      <th>STORY</th>\n",
              "      <th>SECTION</th>\n",
              "    </tr>\n",
              "  </thead>\n",
              "  <tbody>\n",
              "    <tr>\n",
              "      <th>0</th>\n",
              "      <td>But the most painful was the huge reversal in ...</td>\n",
              "      <td>3</td>\n",
              "    </tr>\n",
              "    <tr>\n",
              "      <th>1</th>\n",
              "      <td>How formidable is the opposition alliance amon...</td>\n",
              "      <td>0</td>\n",
              "    </tr>\n",
              "    <tr>\n",
              "      <th>2</th>\n",
              "      <td>Most Asian currencies were trading lower today...</td>\n",
              "      <td>3</td>\n",
              "    </tr>\n",
              "    <tr>\n",
              "      <th>3</th>\n",
              "      <td>If you want to answer any question, click on ‘...</td>\n",
              "      <td>1</td>\n",
              "    </tr>\n",
              "    <tr>\n",
              "      <th>4</th>\n",
              "      <td>In global markets, gold prices edged up today ...</td>\n",
              "      <td>3</td>\n",
              "    </tr>\n",
              "  </tbody>\n",
              "</table>\n",
              "</div>"
            ],
            "text/plain": [
              "                                               STORY  SECTION\n",
              "0  But the most painful was the huge reversal in ...        3\n",
              "1  How formidable is the opposition alliance amon...        0\n",
              "2  Most Asian currencies were trading lower today...        3\n",
              "3  If you want to answer any question, click on ‘...        1\n",
              "4  In global markets, gold prices edged up today ...        3"
            ]
          },
          "metadata": {
            "tags": []
          },
          "execution_count": 4
        }
      ]
    },
    {
      "cell_type": "code",
      "metadata": {
        "colab": {
          "base_uri": "https://localhost:8080/"
        },
        "id": "aO9IiWv8gbNT",
        "outputId": "53ce772d-1d07-4dcb-d7a0-17a6fff7c973"
      },
      "source": [
        "train_data.info()"
      ],
      "execution_count": null,
      "outputs": [
        {
          "output_type": "stream",
          "text": [
            "<class 'pandas.core.frame.DataFrame'>\n",
            "RangeIndex: 7628 entries, 0 to 7627\n",
            "Data columns (total 2 columns):\n",
            " #   Column   Non-Null Count  Dtype \n",
            "---  ------   --------------  ----- \n",
            " 0   STORY    7628 non-null   object\n",
            " 1   SECTION  7628 non-null   int64 \n",
            "dtypes: int64(1), object(1)\n",
            "memory usage: 119.3+ KB\n"
          ],
          "name": "stdout"
        }
      ]
    },
    {
      "cell_type": "code",
      "metadata": {
        "colab": {
          "base_uri": "https://localhost:8080/"
        },
        "id": "CAAVXsUMgbNU",
        "outputId": "e6a34b4b-b835-48f7-b088-8640e5d7db8c"
      },
      "source": [
        "train_data.shape"
      ],
      "execution_count": null,
      "outputs": [
        {
          "output_type": "execute_result",
          "data": {
            "text/plain": [
              "(7628, 2)"
            ]
          },
          "metadata": {
            "tags": []
          },
          "execution_count": 6
        }
      ]
    },
    {
      "cell_type": "code",
      "metadata": {
        "colab": {
          "base_uri": "https://localhost:8080/",
          "height": 233
        },
        "id": "vfz5CuDxgbNc",
        "outputId": "95ae6bfe-2ab6-40a5-f7d6-691bd41e1708"
      },
      "source": [
        "train_data.groupby('SECTION').describe()"
      ],
      "execution_count": null,
      "outputs": [
        {
          "output_type": "execute_result",
          "data": {
            "text/html": [
              "<div>\n",
              "<style scoped>\n",
              "    .dataframe tbody tr th:only-of-type {\n",
              "        vertical-align: middle;\n",
              "    }\n",
              "\n",
              "    .dataframe tbody tr th {\n",
              "        vertical-align: top;\n",
              "    }\n",
              "\n",
              "    .dataframe thead tr th {\n",
              "        text-align: left;\n",
              "    }\n",
              "\n",
              "    .dataframe thead tr:last-of-type th {\n",
              "        text-align: right;\n",
              "    }\n",
              "</style>\n",
              "<table border=\"1\" class=\"dataframe\">\n",
              "  <thead>\n",
              "    <tr>\n",
              "      <th></th>\n",
              "      <th colspan=\"4\" halign=\"left\">STORY</th>\n",
              "    </tr>\n",
              "    <tr>\n",
              "      <th></th>\n",
              "      <th>count</th>\n",
              "      <th>unique</th>\n",
              "      <th>top</th>\n",
              "      <th>freq</th>\n",
              "    </tr>\n",
              "    <tr>\n",
              "      <th>SECTION</th>\n",
              "      <th></th>\n",
              "      <th></th>\n",
              "      <th></th>\n",
              "      <th></th>\n",
              "    </tr>\n",
              "  </thead>\n",
              "  <tbody>\n",
              "    <tr>\n",
              "      <th>0</th>\n",
              "      <td>1686</td>\n",
              "      <td>1673</td>\n",
              "      <td>This story has been published from a wire agen...</td>\n",
              "      <td>4</td>\n",
              "    </tr>\n",
              "    <tr>\n",
              "      <th>1</th>\n",
              "      <td>2772</td>\n",
              "      <td>2731</td>\n",
              "      <td>This story has been published from a wire agen...</td>\n",
              "      <td>13</td>\n",
              "    </tr>\n",
              "    <tr>\n",
              "      <th>2</th>\n",
              "      <td>1924</td>\n",
              "      <td>1914</td>\n",
              "      <td>We will leave no stone unturned to make the au...</td>\n",
              "      <td>3</td>\n",
              "    </tr>\n",
              "    <tr>\n",
              "      <th>3</th>\n",
              "      <td>1246</td>\n",
              "      <td>1233</td>\n",
              "      <td>This story has been published from a wire agen...</td>\n",
              "      <td>11</td>\n",
              "    </tr>\n",
              "  </tbody>\n",
              "</table>\n",
              "</div>"
            ],
            "text/plain": [
              "        STORY                                                               \n",
              "        count unique                                                top freq\n",
              "SECTION                                                                     \n",
              "0        1686   1673  This story has been published from a wire agen...    4\n",
              "1        2772   2731  This story has been published from a wire agen...   13\n",
              "2        1924   1914  We will leave no stone unturned to make the au...    3\n",
              "3        1246   1233  This story has been published from a wire agen...   11"
            ]
          },
          "metadata": {
            "tags": []
          },
          "execution_count": 7
        }
      ]
    },
    {
      "cell_type": "code",
      "metadata": {
        "id": "oaWQjY8QgbNd"
      },
      "source": [
        "train_data.drop_duplicates(inplace=True)\n",
        "all_punctuations=string.punctuation +'‘’,:”][],' "
      ],
      "execution_count": null,
      "outputs": []
    },
    {
      "cell_type": "code",
      "metadata": {
        "id": "kGIKAGY7gbNd"
      },
      "source": [
        "def punc_remover(raw_text):\n",
        "    no_punct = \"\".join([i for i in raw_text if i not in all_punctuations])\n",
        "    return no_punct\n",
        "    "
      ],
      "execution_count": null,
      "outputs": []
    },
    {
      "cell_type": "code",
      "metadata": {
        "id": "M23a1jBigbNd"
      },
      "source": [
        "def stopword_remover(no_punc_text):\n",
        "    words= no_punc_text.split()\n",
        "    no_stp_words = \"\".join([i for i in words if i not in stopwords.words('english')])\n",
        "    return no_stp_words\n",
        "    "
      ],
      "execution_count": null,
      "outputs": []
    },
    {
      "cell_type": "code",
      "metadata": {
        "id": "9hg29VSfgbNd"
      },
      "source": [
        "lemmer = nltk.stem.WordNetLemmatizer()\n",
        "def lem(words):\n",
        "    return \"\".join([lemmer.lemmatize(word,'v')for word in words.split()])"
      ],
      "execution_count": null,
      "outputs": []
    },
    {
      "cell_type": "code",
      "metadata": {
        "id": "w1ylyPUSgbNd"
      },
      "source": [
        "def text_cleaner(raw):\n",
        "    cleaned_text = stopword_remover(punc_remover(raw))\n",
        "    return lem(cleaned_text)"
      ],
      "execution_count": null,
      "outputs": []
    },
    {
      "cell_type": "code",
      "metadata": {
        "scrolled": true,
        "colab": {
          "base_uri": "https://localhost:8080/",
          "height": 53
        },
        "id": "wrwfV7u4gbNd",
        "outputId": "02f879b5-3e41-407a-a2ae-adca0a875e69"
      },
      "source": [
        "text_cleaner(\"Hi!,this is a sample test to the text cleaner method. Remove*@!#special characters%$^* and stopwords. And lemmetizes, go, going - run, ran, running\")"
      ],
      "execution_count": null,
      "outputs": [
        {
          "output_type": "execute_result",
          "data": {
            "application/vnd.google.colaboratory.intrinsic+json": {
              "type": "string"
            },
            "text/plain": [
              "'HithissampletesttextcleanermethodRemovespecialcharactersstopwordsAndlemmetizesgogoingrunranrunning'"
            ]
          },
          "metadata": {
            "tags": []
          },
          "execution_count": 13
        }
      ]
    },
    {
      "cell_type": "code",
      "metadata": {
        "id": "2SGy6MXQgbNd"
      },
      "source": [
        "train_data['CLEAN_STORY'] = train_data['STORY'].apply(text_cleaner)"
      ],
      "execution_count": null,
      "outputs": []
    },
    {
      "cell_type": "code",
      "metadata": {
        "colab": {
          "base_uri": "https://localhost:8080/"
        },
        "id": "2KbgfENRh0RK",
        "outputId": "5f275a9c-7ab7-4e72-95e5-dfd72fa40c76"
      },
      "source": [
        "print(train_data.values) "
      ],
      "execution_count": null,
      "outputs": [
        {
          "output_type": "stream",
          "text": [
            "[['But the most painful was the huge reversal in fee income, unheard of among private sector lenders. Essentially, it means that Yes Bank took it for granted that fees on structured loan deals will be paid and accounted for upfront on its books. As borrowers turned defaulters, the fees tied to these loan deals fell off the cracks. Gill has now vowed to shift to a safer accounting practice of amortizing fee income rather than booking these upfront.\\n\\n\\nGill’s move to mend past ways means that there will be no nasty surprises in the future. This is good news considering that investors love a clean image and loathe uncertainties.\\n\\n\\nBut there is no gain without pain and the promise of a strong and stable balance sheet comes with some sacrifices as well. Investors will have to give up the hopes of phenomenal growth, a promise made by Kapoor.'\n",
            "  3\n",
            "  'ButpainfulhugereversalfeeincomeunheardamongprivatesectorlendersEssentiallymeansYesBanktookgrantedfeesstructuredloandealspaidaccountedupfrontbooksAsborrowersturneddefaultersfeestiedloandealsfellcracksGillvowedshiftsaferaccountingpracticeamortizingfeeincomeratherbookingupfrontGillsmovemendpastwaysmeansnastysurprisesfutureThisgoodnewsconsideringinvestorslovecleanimageloatheuncertaintiesButgainwithoutpainpromisestrongstablebalancesheetcomessacrificeswellInvestorsgivehopesphenomenalgrowthpromisemadeKapoor']\n",
            " ['How formidable is the opposition alliance among Congress, Jharkhand Mukti Morcha (JMM) and Jharkhand Vikas Morcha (Prajatantrik)?'\n",
            "  0\n",
            "  'HowformidableoppositionallianceamongCongressJharkhandMuktiMorchaJMMJharkhandVikasMorchaPrajatantrik']\n",
            " ['Most Asian currencies were trading lower today. South Korean won was down 0.4%, China renminbi 0.23%, China Offshore 0.15%, Malaysian ringgit 0.12%, Indonesian rupiah 0.11%, Taiwan dollar 0.06%. However, Japanese yen was up 0.32%.\\n\\n\\nThe dollar index, which measures the US currency’s strength against major currencies, was trading at 97.26, down 0.14% from its previous close of 97.395.'\n",
            "  3\n",
            "  'MostAsiancurrenciestradinglowertodaySouthKorean04Chinarenminbi023ChinaOffshore015Malaysianringgit012Indonesianrupiah011Taiwandollar006HoweverJapaneseyen032ThedollarindexmeasuresUScurrencysstrengthmajorcurrenciestrading9726014previousclose97395']\n",
            " ...\n",
            " ['The database has been created after bringing together criminal records of the state police, the prisons department and the GRP that guards the railway network in the state.\\n\\n\\nA senior official involved in developing the app said the database will help policeman on ground by deploying techniques like face recognition, text search, biometric records analysis, phonetic search, artificial intelligence (AI) and gang analysis to “zero in on the criminal\" in a quick and targeted manner.'\n",
            "  1\n",
            "  'ThedatabasecreatedbringingtogethercriminalrecordsstatepoliceprisonsdepartmentGRPguardsrailwaynetworkstateAseniorofficialinvolveddevelopingappsaiddatabasehelppolicemangrounddeployingtechniqueslikefacerecognitiontextsearchbiometricrecordsanalysisphoneticsearchartificialintelligenceAIganganalysis“zerocriminalquicktargetedmanner']\n",
            " ['The state, which has had an uneasy relationship with the mainland since the days of the late pro-independence leader Angami Zapu Phizo, is wary of National Democratic Alliance (NDA) promises because of the Naga Peace Accord, 2015, held up by slow progress of talks and the controversial Citizenship (Amendment) Bill, 2016. These, along with the aversion of the people of the Christian-majority state toward the BJP’s agenda to promote Hindutva and the uniform civil code, are the major issues in Nagaland.\\n\\n\\nThe direct contest in Nagaland, where money power has fuelled political corruption, is between the ‘hand’ and the ‘globe’, the election symbols of the Congress and the NDPP, respectively. Many believe the BJP-NDPP alliance has an edge because the state tends to send the ruling party candidate to the Lok Sabha. “If you don’t have support in Delhi, any state project will run into roadblocks,\" said Kathi Chishi, secretary of Toka MPCS, an organization that provides financing for rural livelihood.\\n\\n\\nThe NDPP’s candidate is Tokheho Yepthomi, the current member of parliament, who won the seat last year after Neiphiu Rio vacated it to contest the assembly elections. The Congress candidate is K.L. Chishi, former chief minister and a veteran Naga politician. Conrad Sangma’s National People’s Party has fielded a candidate, while the Naga People’s Front is backing its arch rival, the Congress, because it is against the BJP’s majoritarian Hindutva agenda and believes Congress is the party with a secular plank. An independent, M.M. Thromwa Konyak, is also in the fray. The BJP released its manifesto on Monday, restating its commitment to passing the citizenship amendment bill, which had sparked violence in the North-East. However, Yepthomi said on Friday, that after “the government is formed, the NDA partners will meet and then discuss. And what will be best for all stakeholders will be decided on that basis.\"'\n",
            "  0\n",
            "  'ThestateuneasyrelationshipmainlandsincedayslateproindependenceleaderAngamiZapuPhizowaryNationalDemocraticAllianceNDApromisesNagaPeaceAccord2015heldslowprogresstalkscontroversialCitizenshipAmendmentBill2016ThesealongaversionpeopleChristianmajoritystatetowardBJPsagendapromoteHindutvauniformcivilcodemajorissuesNagalandThedirectcontestNagalandmoneypowerfuelledpoliticalcorruptionhandglobeelectionsymbolsCongressNDPPrespectivelyManybelieveBJPNDPPallianceedgestatetendssendrulingpartycandidateLokSabha“IfdontsupportDelhistateprojectrunroadblockssaidKathiChishisecretaryTokaMPCSorganizationprovidesfinancingrurallivelihoodTheNDPPscandidateTokhehoYepthomicurrentmemberparliamentseatlastyearNeiphiuRiovacatedcontestassemblyelectionsTheCongresscandidateKLChishiformerchiefministerveteranNagapoliticianConradSangmasNationalPeoplesPartyfieldedcandidateNagaPeoplesFrontbackingarchrivalCongressBJPsmajoritarianHindutvaagendabelievesCongresspartysecularplankAnindependentMMThromwaKonyakalsofrayTheBJPreleasedmanifestoMondayrestatingcommitmentpassingcitizenshipamendmentbillsparkedviolenceNorthEastHoweverYepthomisaidFriday“thegovernmentformedNDApartnersmeetdiscussAndbeststakeholdersdecidedbasis']\n",
            " ['Virus stars Kunchacko Boban, Tovino Thomas, Indrajith Sukumaran, Asif Ali, Soubin Shahir, Poornima Indrajith, Sreenath Bhasi, Rima Kallingal, Remya Nambeesan, Joju George, Dileesh Pothan, Senthil Krishna, Rahman, Revathy, Asha Kelunni, Parvathy Thiruvothu, Indrans and Madonna Sebastian'\n",
            "  2\n",
            "  'VirusstarsKunchackoBobanTovinoThomasIndrajithSukumaranAsifAliSoubinShahirPoornimaIndrajithSreenathBhasiRimaKallingalRemyaNambeesanJojuGeorgeDileeshPothanSenthilKrishnaRahmanRevathyAshaKelunniParvathyThiruvothuIndransMadonnaSebastian']]\n"
          ],
          "name": "stdout"
        }
      ]
    },
    {
      "cell_type": "code",
      "metadata": {
        "id": "3cdSexoviOoi"
      },
      "source": [
        "from sklearn.feature_extraction.text import  CountVectorizer"
      ],
      "execution_count": null,
      "outputs": []
    },
    {
      "cell_type": "code",
      "metadata": {
        "id": "_HhxZy-mi6Oa"
      },
      "source": [
        "bow_dictionary = CountVectorizer().fit(train_data['CLEAN_STORY'])"
      ],
      "execution_count": null,
      "outputs": []
    },
    {
      "cell_type": "code",
      "metadata": {
        "colab": {
          "base_uri": "https://localhost:8080/"
        },
        "id": "Wan9hJ9xjV40",
        "outputId": "ad805b58-a41a-45aa-ed30-ad57e17e7ad7"
      },
      "source": [
        "len(bow_dictionary.vocabulary_)"
      ],
      "execution_count": null,
      "outputs": [
        {
          "output_type": "execute_result",
          "data": {
            "text/plain": [
              "14297"
            ]
          },
          "metadata": {
            "tags": []
          },
          "execution_count": 18
        }
      ]
    },
    {
      "cell_type": "code",
      "metadata": {
        "id": "uHghKysVjfi4"
      },
      "source": [
        "bow = bow_dictionary.transform(train_data['CLEAN_STORY'])"
      ],
      "execution_count": null,
      "outputs": []
    },
    {
      "cell_type": "code",
      "metadata": {
        "colab": {
          "base_uri": "https://localhost:8080/"
        },
        "id": "j4mZp9z1j-WQ",
        "outputId": "81e51609-c2fb-4526-e9da-d04abdbb6c70"
      },
      "source": [
        "print(bow.shape)"
      ],
      "execution_count": null,
      "outputs": [
        {
          "output_type": "stream",
          "text": [
            "(7551, 14297)\n"
          ],
          "name": "stdout"
        }
      ]
    },
    {
      "cell_type": "code",
      "metadata": {
        "id": "PBdzEAEplnMs"
      },
      "source": [
        "from sklearn.feature_extraction.text import  TfidfTransformer"
      ],
      "execution_count": null,
      "outputs": []
    },
    {
      "cell_type": "code",
      "metadata": {
        "id": "q7t1iocymIcx"
      },
      "source": [
        "tfidf_transformer = TfidfTransformer().fit(bow)"
      ],
      "execution_count": null,
      "outputs": []
    },
    {
      "cell_type": "code",
      "metadata": {
        "id": "09xL4wDMmcB_"
      },
      "source": [
        "storyfidf = tfidf_transformer.transform(bow)"
      ],
      "execution_count": null,
      "outputs": []
    },
    {
      "cell_type": "code",
      "metadata": {
        "id": "vHqrQno5lJZ6"
      },
      "source": [
        "from sklearn.naive_bayes import MultinomialNB"
      ],
      "execution_count": null,
      "outputs": []
    },
    {
      "cell_type": "code",
      "metadata": {
        "id": "WA6j5ITBkHe4"
      },
      "source": [
        "classifier = MultinomialNB().fit(storyfidf,train_data['SECTION'])"
      ],
      "execution_count": null,
      "outputs": []
    },
    {
      "cell_type": "code",
      "metadata": {
        "id": "jO5DQO6ak0oq"
      },
      "source": [
        "test_data = pd.read_excel('Data_Test.xlsx')"
      ],
      "execution_count": null,
      "outputs": []
    },
    {
      "cell_type": "code",
      "metadata": {
        "id": "VPIFG5MZnmE9"
      },
      "source": [
        "test_data['CLEAN_STORY'] = test_data['STORY'].apply(text_cleaner)"
      ],
      "execution_count": null,
      "outputs": []
    },
    {
      "cell_type": "code",
      "metadata": {
        "colab": {
          "base_uri": "https://localhost:8080/"
        },
        "id": "ff-LuMo-oRQZ",
        "outputId": "41ab9732-5370-4bad-9b06-cb1692251bba"
      },
      "source": [
        "print(test_data.values)"
      ],
      "execution_count": null,
      "outputs": [
        {
          "output_type": "stream",
          "text": [
            "[['2019 will see gadgets like gaming smartphones and wearable medical devices lifting the user experience to a whole new level\\n\\n\\nmint-india-wire consumer technologyconsumer technology trends in New Yeartech gadgetsFoldable phonesgaming smartphoneswearable medical devicestechnology\\n\\n\\nNew Delhi: Gadgets have become an integral part of our lives with most of us relying on some form of factor to communicate, commute, work, be informed or entertained. Year 2019 will see some gadgets lifting the user experience to a whole new level. Here’s what we can expect to see:\\n\\n\\nSmartphones with foldable screens: Foldable phones are finally moving from the concept stage to commercial launches. They are made up of organic light-emitting diode (OLED) panels with higher plastic substrates, allowing them to be bent without damage.\\n\\n\\nUS-based display maker Royole Corp’s foldable phone, FlexPai, has already arrived in select markets, while Samsung’s unnamed foldable phone is expected sometime next year. Samsung’s smartphone chief executive officer D.J. Koh has said they will make a million units of it. LG, too, is expected to display a foldable phone next year. Meanwhile Apple, Nokia, Lenovo and Huawei have also been working on foldable phones, reportedly.\\n\\n\\neSIM: Very soon your smartphone won’t need a physical SIM card anymore. The eSIM technology, already used by Apple in its iPhones and Apple Watch, replaces the physical SIM with a virtually embedded chip on the motherboard. eSIMs support multiple mobile operators and can be programmed to switch services.'\n",
            "  '2019seegadgetslikegamingsmartphoneswearablemedicaldevicesliftinguserexperiencewholenewlevelmintindiawireconsumertechnologyconsumertechnologytrendsNewYeartechgadgetsFoldablephonesgamingsmartphoneswearablemedicaldevicestechnologyNewDelhiGadgetsbecomeintegralpartlivesusrelyingformfactorcommunicatecommuteworkinformedentertainedYear2019seegadgetsliftinguserexperiencewholenewlevelHeresexpectseeSmartphonesfoldablescreensFoldablephonesfinallymovingconceptstagecommerciallaunchesTheymadeorganiclightemittingdiodeOLEDpanelshigherplasticsubstratesallowingbentwithoutdamageUSbaseddisplaymakerRoyoleCorpsfoldablephoneFlexPaialreadyarrivedselectmarketsSamsungsunnamedfoldablephoneexpectedsometimenextyearSamsungssmartphonechiefexecutiveofficerDJKohsaidmakemillionunitsLGexpecteddisplayfoldablephonenextyearMeanwhileAppleNokiaLenovoHuaweialsoworkingfoldablephonesreportedlyeSIMVerysoonsmartphonewontneedphysicalSIMcardanymoreTheeSIMtechnologyalreadyusedAppleiPhonesAppleWatchreplacesphysicalSIMvirtuallyembeddedchipmotherboardeSIMssupportmultiplemobileoperatorsprogrammedswitchservices']\n",
            " ['It has also unleashed a wave of changes in the MCU that will make sure its future is a lot different than its past\\n\\n\\nKevin Feige had signalled diversity and more representation in the post-phase 3 MCU and Endgame does a lot to showcase the initiative'\n",
            "  'ItalsounleashedwavechangesMCUmakesurefuturelotdifferentpastKevinFeigesignalleddiversityrepresentationpostphase3MCUEndgamelotshowcaseinitiative']\n",
            " ['It can be confusing to pick the right smartphone for yourself, so we have segregated the top smartphones under Rs 20,000 according to their strengths.\\n\\n\\nThe best smartphones under ₹20,000 categorised according to performance, camera, design and battery life\\n\\n\\nmint-india-wire phones under Rs 20000Poco F1Realme U1Redmi Note 6 Prorealme 2 proHonor PlayNokia 7.1Nova 3iAsus Zenfone Max Pro M1\\n\\n\\nGone are the days when you had to shell out big buck for buying smartphones with premium features. Technology has become more accessible recently and the biggest example of that lies in the sub-Rs 20,000 category—you get good performance, design and even software at a reasonable price.\\n\\n\\nIt can be confusing to pick the right smartphone for you, however, given the amount of variety that lies in the segment. So we have segregated the top smartphones under ₹ 20,000 according to their strengths, so you can pick the one that suits you best.\\n\\n\\nThis phone actually lies just north of the ₹ 20,000 price point. But if you have an HDFC debit or credit card, you can purchase the lowest spec variant with 6GB RAM and 64GB internal storage for as low as ₹ 19,999, making it the cheapest smartphone to run a Qualcomm Snapdragon 845 SoC. There’s not a lot to not like about this phone—it has the fastest processor Qualcomm has to offer, some thermal trickery to keep your smartphone cool during intense gaming sessions, a very good camera and some durable plastic that doesn’t shatter or pick up scratches.\\n\\n\\nIt even gets a modded version of the MIUI with an app drawer that allows you colour code your applications.'\n",
            "  'ItconfusingpickrightsmartphonesegregatedtopsmartphonesRs20000accordingstrengthsThebestsmartphones₹20000categorisedaccordingperformancecameradesignbatterylifemintindiawirephonesRs20000PocoF1RealmeU1RedmiNote6Prorealme2proHonorPlayNokia71Nova3iAsusZenfoneMaxProM1GonedaysshellbigbuckbuyingsmartphonespremiumfeaturesTechnologybecomeaccessiblerecentlybiggestexampleliessubRs20000category—yougetgoodperformancedesignevensoftwarereasonablepriceItconfusingpickrightsmartphonehowevergivenamountvarietyliessegmentSosegregatedtopsmartphones₹20000accordingstrengthspickonesuitsbestThisphoneactuallyliesnorth₹20000pricepointButHDFCdebitcreditcardpurchaselowestspecvariant6GBRAM64GBinternalstoragelow₹19999makingcheapestsmartphonerunQualcommSnapdragon845SoCThereslotlikephone—itfastestprocessorQualcommofferthermaltrickerykeepsmartphonecoolintensegamingsessionsgoodcameradurableplasticdoesntshatterpickscratchesItevengetsmoddedversionMIUIappdrawerallowscolourcodeapplications']\n",
            " ...\n",
            " ['On the photography front, the Note 5 Pro features a 12MP + 15MP dual rear camera setup, sporting an aperture of f/2.2, while on the front it has a 20MP selfie camera.\\n\\n\\nXiaomi Redmi Note 5 ProRedmi Note 5 Pro price cutRedmi Note 5 Pro price indiaRedmi Note 5 Pro specificationsRedmi Note 5 Pro saleRedmi Note 5 Pro units soldRedmi Note 5 Pro review'\n",
            "  'OnphotographyfrontNote5Profeatures12MP15MPdualrearcamerasetupsportingaperturef22front20MPselfiecameraXiaomiRedmiNote5ProRedmiNote5PropricecutRedmiNote5PropriceindiaRedmiNote5ProspecificationsRedmiNote5ProsaleRedmiNote5ProunitssoldRedmiNote5Proreview']\n",
            " ['UDAY mandated that discoms bring the gap between average revenue and average costs to zero. Here, too, there has been progress with the gap reducing (from ₹0.60/kWh in 2015-16 to ₹0.17/kWh in 2017-18), but 21 of 26 states are still unlikely to meet the target.\\n\\n\\nAccording to a National Institute of Public Finance and Policy study, this data suggests that the UDAY scheme is failing to turn around the power sector. The authors also find that discoms remain plagued by operational inefficiencies such as lack of effective billing procedures, poor measurement of power consumption, and ineffective monitoring of power theft.\\n\\n\\nTaken together, data shows that the NDA has built on the previous government’s work to get more households electrified—but quality of access still remains an issue.\\n\\n\\nWhile the government has tried to address this by improving the financial health of discoms, much more needs to be done. The inability of successive governments to revive discom fortunes could have important ramifications for India’s development.\\n\\n\\nThe World Bank estimates India’s electricity demand to treble by 2040. Addressing this rising demand will be critical for the development agenda of whichever party is elected to form the next government.'\n",
            "  'UDAYmandateddiscomsbringgapaveragerevenueaveragecostszeroHereprogressgapreducing₹060kWh201516₹017kWh2017182126statesstillunlikelymeettargetAccordingNationalInstitutePublicFinancePolicystudydatasuggestsUDAYschemefailingturnaroundpowersectorTheauthorsalsofinddiscomsremainplaguedoperationalinefficiencieslackeffectivebillingprocedurespoormeasurementpowerconsumptionineffectivemonitoringpowertheftTakentogetherdatashowsNDAbuiltpreviousgovernmentsworkgethouseholdselectrified—butqualityaccessstillremainsissueWhilegovernmenttriedaddressimprovingfinancialhealthdiscomsmuchneedsdoneTheinabilitysuccessivegovernmentsrevivediscomfortunescouldimportantramificationsIndiasdevelopmentTheWorldBankestimatesIndiaselectricitydemandtreble2040Addressingrisingdemandcriticaldevelopmentagendawhicheverpartyelectedformnextgovernment']\n",
            " ['Ripple also helps bank customers send money to people in many emerging markets including Mexico, India, and Thailand to increase their share of “this large and growing market\". What’s next? “Ripple is moving beyond blockchain, and connecting networks so that we can move money across networks. Again this is open-source and lightweight so it becomes easy to transfer money across networks. So we are building the ecosystem for networks to connect with each other and in our view globalization will be completed when data, goods and money flow seamlessly. That’s the way we think of it as an internet of value when the whole world gets connected through payment systems,\" Gupta said.'\n",
            "  'RipplealsohelpsbankcustomerssendmoneypeoplemanyemergingmarketsincludingMexicoIndiaThailandincreaseshare“thislargegrowingmarketWhatsnext“RipplemovingbeyondblockchainconnectingnetworksmovemoneyacrossnetworksAgainopensourcelightweightbecomeseasytransfermoneyacrossnetworksSobuildingecosystemnetworksconnectviewglobalizationcompleteddatagoodsmoneyflowseamlesslyThatswaythinkinternetvaluewholeworldgetsconnectedpaymentsystemsGuptasaid']]\n"
          ],
          "name": "stdout"
        }
      ]
    },
    {
      "cell_type": "code",
      "metadata": {
        "id": "z7PG1JE8okVQ"
      },
      "source": [
        "from sklearn.pipeline import  Pipeline"
      ],
      "execution_count": null,
      "outputs": []
    },
    {
      "cell_type": "code",
      "metadata": {
        "id": "ay_k7LgQo2BI"
      },
      "source": [
        "pipe = Pipeline([('bow',CountVectorizer()),('tfidf',TfidfTransformer()),('classifier',MultinomialNB())])"
      ],
      "execution_count": null,
      "outputs": []
    },
    {
      "cell_type": "code",
      "metadata": {
        "colab": {
          "base_uri": "https://localhost:8080/"
        },
        "id": "yqiFxACcp5bI",
        "outputId": "332af4a9-dae5-4a79-c35e-a8f74c61e640"
      },
      "source": [
        "pipe.fit(train_data['CLEAN_STORY'],train_data['SECTION'])"
      ],
      "execution_count": null,
      "outputs": [
        {
          "output_type": "execute_result",
          "data": {
            "text/plain": [
              "Pipeline(memory=None,\n",
              "         steps=[('bow',\n",
              "                 CountVectorizer(analyzer='word', binary=False,\n",
              "                                 decode_error='strict',\n",
              "                                 dtype=<class 'numpy.int64'>, encoding='utf-8',\n",
              "                                 input='content', lowercase=True, max_df=1.0,\n",
              "                                 max_features=None, min_df=1,\n",
              "                                 ngram_range=(1, 1), preprocessor=None,\n",
              "                                 stop_words=None, strip_accents=None,\n",
              "                                 token_pattern='(?u)\\\\b\\\\w\\\\w+\\\\b',\n",
              "                                 tokenizer=None, vocabulary=None)),\n",
              "                ('tfidf',\n",
              "                 TfidfTransformer(norm='l2', smooth_idf=True,\n",
              "                                  sublinear_tf=False, use_idf=True)),\n",
              "                ('classifier',\n",
              "                 MultinomialNB(alpha=1.0, class_prior=None, fit_prior=True))],\n",
              "         verbose=False)"
            ]
          },
          "metadata": {
            "tags": []
          },
          "execution_count": 38
        }
      ]
    },
    {
      "cell_type": "code",
      "metadata": {
        "id": "Wt6Jcostqkoh"
      },
      "source": [
        "test_preds_mnb = pipe.predict(test_data['CLEAN_STORY'])"
      ],
      "execution_count": null,
      "outputs": []
    },
    {
      "cell_type": "code",
      "metadata": {
        "id": "GmBKzsOHrJOx"
      },
      "source": [
        "pd.DataFrame(test_preds_mnb,columns=['SECTION']).to_excel('predictions.xlsx')"
      ],
      "execution_count": null,
      "outputs": []
    },
    {
      "cell_type": "code",
      "metadata": {
        "id": "JkAg7VowsG4e"
      },
      "source": [
        ""
      ],
      "execution_count": null,
      "outputs": []
    }
  ]
}